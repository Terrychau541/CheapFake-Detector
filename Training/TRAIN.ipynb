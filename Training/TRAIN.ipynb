{
 "cells": [
  {
   "cell_type": "code",
   "execution_count": 1,
   "id": "a1ddf5e7",
   "metadata": {},
   "outputs": [
    {
     "name": "stdout",
     "output_type": "stream",
     "text": [
      "Requirement already satisfied: torch in /opt/conda/lib/python3.7/site-packages (from -r requirements.txt (line 1)) (1.8.0)\n",
      "Requirement already satisfied: numpy in /opt/conda/lib/python3.7/site-packages (from -r requirements.txt (line 2)) (1.19.5)\n",
      "Requirement already satisfied: pillow in /opt/conda/lib/python3.7/site-packages (from -r requirements.txt (line 3)) (8.1.2)\n",
      "Requirement already satisfied: gdown in /opt/conda/lib/python3.7/site-packages (from -r requirements.txt (line 4)) (3.12.2)\n",
      "Requirement already satisfied: pytorch-ignite in /opt/conda/lib/python3.7/site-packages (from -r requirements.txt (line 5)) (0.4.4)\n",
      "Requirement already satisfied: six in /opt/conda/lib/python3.7/site-packages (from gdown->-r requirements.txt (line 4)) (1.15.0)\n",
      "Requirement already satisfied: requests[socks] in /opt/conda/lib/python3.7/site-packages (from gdown->-r requirements.txt (line 4)) (2.25.1)\n",
      "Requirement already satisfied: filelock in /opt/conda/lib/python3.7/site-packages (from gdown->-r requirements.txt (line 4)) (3.0.12)\n",
      "Requirement already satisfied: tqdm in /opt/conda/lib/python3.7/site-packages (from gdown->-r requirements.txt (line 4)) (4.60.0)\n",
      "Requirement already satisfied: typing_extensions in /opt/conda/lib/python3.7/site-packages (from torch->-r requirements.txt (line 1)) (3.7.4.3)\n",
      "Requirement already satisfied: idna<3,>=2.5 in /opt/conda/lib/python3.7/site-packages (from requests[socks]->gdown->-r requirements.txt (line 4)) (2.10)\n",
      "Requirement already satisfied: chardet<5,>=3.0.2 in /opt/conda/lib/python3.7/site-packages (from requests[socks]->gdown->-r requirements.txt (line 4)) (4.0.0)\n",
      "Requirement already satisfied: certifi>=2017.4.17 in /opt/conda/lib/python3.7/site-packages (from requests[socks]->gdown->-r requirements.txt (line 4)) (2020.12.5)\n",
      "Requirement already satisfied: urllib3<1.27,>=1.21.1 in /opt/conda/lib/python3.7/site-packages (from requests[socks]->gdown->-r requirements.txt (line 4)) (1.26.4)\n",
      "Requirement already satisfied: PySocks!=1.5.7,>=1.5.6 in /opt/conda/lib/python3.7/site-packages (from requests[socks]->gdown->-r requirements.txt (line 4)) (1.7.1)\n"
     ]
    }
   ],
   "source": [
    "!pip install -r requirements.txt"
   ]
  },
  {
   "cell_type": "code",
   "execution_count": 2,
   "id": "c15253a9",
   "metadata": {},
   "outputs": [
    {
     "name": "stdout",
     "output_type": "stream",
     "text": [
      "classify.py train --arch drn_c_26 -j 4 /home/jupyter/datasets/SkinTone/ --epochs 30 --resume model_best.pth.tar --lr .000001\n",
      "Namespace(arch='drn_c_26', batch_size=256, check_freq=10, cmd='train', crop_size=224, data='/home/jupyter/datasets/SkinTone/', epochs=30, evaluate=False, lr=1e-06, lr_adjust='step', momentum=0.9, num_classes=2, pretrained=False, print_freq=10, resume='model_best.pth.tar', scale_size=256, start_epoch=0, step_ratio=0.1, weight_decay=0.0001, workers=4)\n",
      "Traceback (most recent call last):\n",
      "  File \"classify.py\", line 357, in <module>\n",
      "    main()\n",
      "  File \"classify.py\", line 80, in main\n",
      "    run_training(args)\n",
      "  File \"classify.py\", line 88, in run_training\n",
      "    model = torch.nn.DataParallel(model).cuda()\n",
      "  File \"/opt/conda/lib/python3.7/site-packages/torch/nn/modules/module.py\", line 491, in cuda\n",
      "    return self._apply(lambda t: t.cuda(device))\n",
      "  File \"/opt/conda/lib/python3.7/site-packages/torch/nn/modules/module.py\", line 387, in _apply\n",
      "    module._apply(fn)\n",
      "  File \"/opt/conda/lib/python3.7/site-packages/torch/nn/modules/module.py\", line 387, in _apply\n",
      "    module._apply(fn)\n",
      "  File \"/opt/conda/lib/python3.7/site-packages/torch/nn/modules/module.py\", line 387, in _apply\n",
      "    module._apply(fn)\n",
      "  File \"/opt/conda/lib/python3.7/site-packages/torch/nn/modules/module.py\", line 409, in _apply\n",
      "    param_applied = fn(param)\n",
      "  File \"/opt/conda/lib/python3.7/site-packages/torch/nn/modules/module.py\", line 491, in <lambda>\n",
      "    return self._apply(lambda t: t.cuda(device))\n",
      "  File \"/opt/conda/lib/python3.7/site-packages/torch/cuda/__init__.py\", line 170, in _lazy_init\n",
      "    torch._C._cuda_init()\n",
      "RuntimeError: No CUDA GPUs are available\n"
     ]
    }
   ],
   "source": [
    "# !python -m torch.distributed.launch --nproc_per_node=8 classify.py train --arch drn_d_38 -j 8 ~/dataset/ --epochs 50\n",
    "!python classify.py train --arch drn_c_26 -j 4 ~/datasets/SkinTone/ --epochs 30 --resume model_best.pth.tar --lr .000001\n",
    "# !python classify.py train --arch drn_c_26 -j 4 ~/datasets/SkinTone/ --epochs 10 --lr .0001"
   ]
  },
  {
   "cell_type": "code",
   "execution_count": 29,
   "id": "b41e82b2",
   "metadata": {},
   "outputs": [
    {
     "name": "stderr",
     "output_type": "stream",
     "text": [
      "/opt/conda/lib/python3.7/site-packages/seaborn/_decorators.py:43: FutureWarning: Pass the following variables as keyword args: x, y. From version 0.12, the only valid positional argument will be `data`, and passing other arguments without an explicit keyword will result in an error or misinterpretation.\n",
      "  FutureWarning\n",
      "/opt/conda/lib/python3.7/site-packages/seaborn/_decorators.py:43: FutureWarning: Pass the following variables as keyword args: x, y. From version 0.12, the only valid positional argument will be `data`, and passing other arguments without an explicit keyword will result in an error or misinterpretation.\n",
      "  FutureWarning\n"
     ]
    },
    {
     "data": {
      "text/plain": [
       "<AxesSubplot:>"
      ]
     },
     "execution_count": 29,
     "metadata": {},
     "output_type": "execute_result"
    },
    {
     "data": {
      "image/png": "[encoded data removed]",
      "text/plain": [
       "<Figure size 432x288 with 1 Axes>"
      ]
     },
     "metadata": {
      "needs_background": "light"
     },
     "output_type": "display_data"
    }
   ],
   "source": [
    "import seaborn as sns\n",
    "import matplotlib.pyplot as plt\n",
    "# SkinTone\n",
    "# Training Losses: [0.5845731291419551, 0.5793858855475217, 0.571717933090925, 0.564538085172614, 0.5582324608201006, 0.5504750946737098, 0.5556622844513125, 0.5445608254552836, 0.53516815671437, 0.5212105425399255, 0.5116205778759592, 0.5086272241080575, 0.5105243862551933, 0.5043158681922608, 0.5076534840485614, 0.5022659603404012, 0.5005181512370332, 0.49875165709285574, 0.49889229574164845, 0.49669181432395515, 0.49587456492194715, 0.49256134576202065, 0.49071590210356264, 0.4882737843057835, 0.48955565436938747]\n",
    "# Validation Losses: [0.6091253298979539, 0.5832756941135113, 0.5889052060934213, 0.6173643217636988, 0.5935588112244239, 0.5972532125619742, 0.6599519413251144, 0.8688086500534644, 0.5412452931587513, 0.5419574563319867, 0.5334523182648879, 0.528115267937, 0.5295211626933172, 0.5426796628878667, 0.5294665785936209, 0.5256051237766559, 0.5300649358676031, 0.5211291771668655, 0.5197302813713367, 0.5202779334325057, 0.5191983053317437, 0.5193768510451684, 0.5169445184560922, 0.5235077234414908, 0.5190677826221173]\n",
    "\n",
    "\n",
    "# #SMoothening\n",
    "# ###\n",
    "# Training Losses: [0.3916789290949913, 0.3514705115902929, 0.3445579095201178, 0.3179303741436364, 0.3148471851831703, 0.30116641524260984, 0.2883608540803709, 0.28069250007252117, 0.2831684429473368, 0.2600677124231913, 0.265611870603247, 0.25124039233573003, 0.24571058027785464, 0.22834073775323632, 0.2306437330305857, 0.20790434453513595, 0.2202610307061691, 0.2285713510666762, 0.21435341539571948, 0.20095796738539237, 0.20206355605058057, 0.21295331041891497]\n",
    "# Validation Losses: [0.399402031370014, 1.484498204001852, 0.49185441242957895, 0.49681919392770724, 0.3892173306167276, 0.3278643360516286, 0.3126740286722592, 0.6847732655272376, 0.32339767800170166, 0.27306179709788836, 0.4268022853721599, 1.248221902501645, 0.252548198461983, 0.47237855706467136, 0.35587616576355713, 0.2451557836094191, 0.2581182668731555, 0.4822626299546182, 0.19254892021042275, 0.21997410830307368, 0.21579815210863684, 0.20575206221951645]\n",
    "# ###\n",
    "\n",
    "Training_Losses= [0.3916789290949913, 0.3514705115902929, 0.3445579095201178, 0.3179303741436364, 0.3148471851831703, 0.30116641524260984, 0.2883608540803709, 0.28069250007252117, 0.2831684429473368, 0.2600677124231913, 0.265611870603247, 0.25124039233573003, 0.24571058027785464, 0.22834073775323632, 0.2306437330305857, 0.20790434453513595, 0.2202610307061691, 0.2285713510666762, 0.21435341539571948, 0.20095796738539237, 0.20206355605058057, 0.21295331041891497]\n",
    "Validation_Losses= [0.399402031370014, 1.484498204001852, 0.49185441242957895, 0.49681919392770724, 0.3892173306167276, 0.3278643360516286, 0.3126740286722592, 0.6847732655272376, 0.32339767800170166, 0.27306179709788836, 0.4268022853721599, 1.248221902501645, 0.252548198461983, 0.47237855706467136, 0.35587616576355713, 0.2451557836094191, 0.2581182668731555, 0.4822626299546182, 0.19254892021042275, 0.21997410830307368, 0.21579815210863684, 0.20575206221951645]\n",
    "sns.lineplot(list(range(len(Training_Losses))), Training_Losses)\n",
    "sns.lineplot(list(range(len(Training_Losses))), Validation_Losses)"
   ]
  },
  {
   "cell_type": "code",
   "execution_count": 5,
   "id": "d1a195ba",
   "metadata": {},
   "outputs": [
    {
     "name": "stdout",
     "output_type": "stream",
     "text": [
      "classify.py test --arch drn_c_26 -j 4 /home/jupyter/datasets/Combined/ --resume model_best.pth.tar --print-freq=1\n",
      "Namespace(arch='drn_c_26', batch_size=256, check_freq=10, cmd='test', crop_size=224, data='/home/jupyter/datasets/Combined/', epochs=90, evaluate=False, lr=1, lr_adjust='step', momentum=0.9, num_classes=2, pretrained=False, print_freq=1, resume='model_best.pth.tar', scale_size=256, start_epoch=0, step_ratio=0.1, weight_decay=0.0001, workers=4)\n",
      "=> no checkpoint found at 'model_best.pth.tar'\n",
      "Test: [0/28]\tTime 11.879 (11.879)\tLoss 0.6869 (0.6869)\tAcc 57.42\tPrec [100.0, 0.0]Recall [57.42, 0.0]\n",
      "Test: [1/28]\tTime 0.306 (6.093)\tLoss 0.6887 (0.6878)\tAcc 58.20\tPrec [100.0, 0.0]Recall [58.2, 0.0]\n",
      "Test: [2/28]\tTime 0.314 (4.166)\tLoss 0.6877 (0.6878)\tAcc 58.98\tPrec [100.0, 0.0]Recall [58.98, 0.0]\n",
      "Test: [3/28]\tTime 0.303 (3.200)\tLoss 0.6962 (0.6899)\tAcc 58.59\tPrec [100.0, 0.0]Recall [58.59, 0.0]\n",
      "Test: [4/28]\tTime 0.311 (2.623)\tLoss 0.6946 (0.6908)\tAcc 58.05\tPrec [100.0, 0.0]Recall [58.05, 0.0]\n",
      "Test: [5/28]\tTime 0.310 (2.237)\tLoss 0.6811 (0.6892)\tAcc 58.79\tPrec [100.0, 0.0]Recall [58.79, 0.0]\n",
      "Test: [6/28]\tTime 0.309 (1.962)\tLoss 0.6901 (0.6893)\tAcc 58.31\tPrec [100.0, 0.0]Recall [58.31, 0.0]\n",
      "Test: [7/28]\tTime 0.300 (1.754)\tLoss 0.6986 (0.6905)\tAcc 58.11\tPrec [100.0, 0.0]Recall [58.11, 0.0]\n",
      "Test: [8/28]\tTime 2.995 (1.892)\tLoss 0.6867 (0.6901)\tAcc 58.29\tPrec [100.0, 0.0]Recall [58.29, 0.0]\n",
      "Test: [9/28]\tTime 1.155 (1.818)\tLoss 0.6973 (0.6908)\tAcc 58.01\tPrec [100.0, 0.0]Recall [58.01, 0.0]\n",
      "Test: [10/28]\tTime 0.591 (1.707)\tLoss 0.6889 (0.6906)\tAcc 58.10\tPrec [100.0, 0.0]Recall [58.1, 0.0]\n",
      "Test: [11/28]\tTime 0.358 (1.594)\tLoss 0.6955 (0.6910)\tAcc 58.11\tPrec [100.0, 0.0]Recall [58.11, 0.0]\n",
      "Test: [12/28]\tTime 3.621 (1.750)\tLoss 0.7013 (0.6918)\tAcc 57.54\tPrec [100.0, 0.0]Recall [57.54, 0.0]\n",
      "Test: [13/28]\tTime 3.009 (1.840)\tLoss 0.6837 (0.6912)\tAcc 57.98\tPrec [99.9, 0.33]Recall [57.95, 71.43]\n",
      "Test: [14/28]\tTime 0.300 (1.737)\tLoss 0.7060 (0.6922)\tAcc 56.80\tPrec [93.04, 6.7]Recall [57.95, 41.06]\n",
      "Test: [15/28]\tTime 0.311 (1.648)\tLoss 0.7047 (0.6930)\tAcc 55.76\tPrec [87.06, 12.3]Recall [57.95, 40.66]\n",
      "Test: [16/28]\tTime 2.286 (1.686)\tLoss 0.6970 (0.6932)\tAcc 55.24\tPrec [82.36, 18.04]Recall [57.95, 42.71]\n",
      "Test: [17/28]\tTime 3.133 (1.766)\tLoss 0.6973 (0.6935)\tAcc 54.56\tPrec [77.84, 22.67]Recall [57.95, 42.77]\n",
      "Test: [18/28]\tTime 0.294 (1.689)\tLoss 0.6961 (0.6936)\tAcc 54.15\tPrec [74.06, 27.17]Recall [57.95, 43.59]\n",
      "Test: [19/28]\tTime 0.295 (1.619)\tLoss 0.6930 (0.6936)\tAcc 53.81\tPrec [70.65, 31.2]Recall [57.95, 44.2]\n",
      "Test: [20/28]\tTime 2.619 (1.667)\tLoss 0.6946 (0.6936)\tAcc 53.42\tPrec [67.46, 34.69]Recall [57.95, 44.41]\n",
      "Test: [21/28]\tTime 2.934 (1.724)\tLoss 0.6873 (0.6933)\tAcc 53.18\tPrec [64.66, 38.0]Recall [57.95, 44.87]\n",
      "Test: [22/28]\tTime 0.295 (1.662)\tLoss 0.7004 (0.6936)\tAcc 52.77\tPrec [61.88, 40.74]Recall [57.95, 44.74]\n",
      "Test: [23/28]\tTime 0.308 (1.606)\tLoss 0.6970 (0.6938)\tAcc 52.43\tPrec [59.36, 43.29]Recall [57.95, 44.72]\n",
      "Test: [24/28]\tTime 2.578 (1.645)\tLoss 0.6869 (0.6935)\tAcc 52.41\tPrec [57.34, 46.0]Recall [57.95, 45.38]\n",
      "Test: [25/28]\tTime 2.502 (1.678)\tLoss 0.6939 (0.6935)\tAcc 52.10\tPrec [55.18, 48.12]Recall [57.95, 45.31]\n",
      "Test: [26/28]\tTime 0.316 (1.627)\tLoss 0.6982 (0.6937)\tAcc 51.90\tPrec [53.24, 50.17]Recall [57.95, 45.4]\n",
      "Test: [27/28]\tTime 1.389 (1.619)\tLoss 0.7129 (0.6944)\tAcc 51.38\tPrec [51.15, 51.69]Recall [57.95, 44.83]\n",
      "Final Results: * Acc 51.38\tLoss 0.6944\tPrec [51.15, 51.69]\tRecall [57.95, 44.83]\n"
     ]
    }
   ],
   "source": [
    "!python3 classify.py test --arch drn_c_26 -j 4 ~/datasets/Combined/ --resume model_best.pth.tar --print-freq=1"
   ]
  },
  {
   "cell_type": "code",
   "execution_count": 4,
   "id": "89849c28",
   "metadata": {},
   "outputs": [
    {
     "name": "stdout",
     "output_type": "stream",
     "text": [
      "classify.py test --arch drn_c_26 -j 4 /home/jupyter/datasets/SkinTone/ --resume model_best.pth.tar --print-freq=1\n",
      "Namespace(arch='drn_c_26', batch_size=256, check_freq=10, cmd='test', crop_size=224, data='/home/jupyter/datasets/SkinTone/', epochs=90, evaluate=False, lr=1, lr_adjust='step', momentum=0.9, num_classes=2, pretrained=False, print_freq=1, resume='model_best.pth.tar', scale_size=256, start_epoch=0, step_ratio=0.1, weight_decay=0.0001, workers=4)\n",
      "=> loading checkpoint 'model_best.pth.tar'\n",
      "=> loaded checkpoint 'model_best.pth.tar' (epoch 23)\n",
      "Test: [0/13]\tTime 10.506 (10.506)\tLoss 0.6495 (0.6495)\tAcc 57.81\tPrec [100.0, 0.0]Recall [57.81, 0.0]\n",
      "Test: [1/13]\tTime 0.304 (5.405)\tLoss 0.6328 (0.6411)\tAcc 58.40\tPrec [100.0, 0.0]Recall [58.4, 0.0]\n",
      "Test: [2/13]\tTime 0.299 (3.703)\tLoss 0.6032 (0.6285)\tAcc 59.38\tPrec [100.0, 0.0]Recall [59.38, 0.0]\n",
      "Test: [3/13]\tTime 0.339 (2.862)\tLoss 0.5659 (0.6129)\tAcc 60.94\tPrec [100.0, 0.0]Recall [60.94, 0.0]\n",
      "Test: [4/13]\tTime 0.320 (2.354)\tLoss 0.6002 (0.6103)\tAcc 60.78\tPrec [100.0, 0.0]Recall [60.78, 0.0]\n",
      "Test: [5/13]\tTime 0.341 (2.018)\tLoss 0.6360 (0.6146)\tAcc 60.48\tPrec [100.0, 0.0]Recall [60.48, 0.0]\n",
      "Test: [6/13]\tTime 0.297 (1.772)\tLoss 0.4924 (0.5972)\tAcc 62.50\tPrec [98.82, 14.95]Recall [60.34, 90.62]\n",
      "Test: [7/13]\tTime 0.299 (1.588)\tLoss 0.4264 (0.5758)\tAcc 65.72\tPrec [95.98, 34.13]Recall [60.34, 89.06]\n",
      "Test: [8/13]\tTime 0.375 (1.453)\tLoss 0.4366 (0.5603)\tAcc 68.14\tPrec [93.14, 46.17]Recall [60.34, 88.44]\n",
      "Test: [9/13]\tTime 3.543 (1.662)\tLoss 0.4480 (0.5491)\tAcc 70.20\tPrec [90.7, 54.58]Recall [60.34, 88.5]\n",
      "Test: [10/13]\tTime 0.374 (1.545)\tLoss 0.4654 (0.5415)\tAcc 71.66\tPrec [87.92, 60.57]Recall [60.34, 88.02]\n",
      "Test: [11/13]\tTime 0.344 (1.445)\tLoss 0.3973 (0.5295)\tAcc 73.18\tPrec [85.96, 65.34]Recall [60.34, 88.35]\n",
      "Test: [12/13]\tTime 0.587 (1.379)\tLoss 0.4209 (0.5211)\tAcc 74.37\tPrec [83.88, 69.03]Recall [60.34, 88.4]\n",
      "Final Results: * Acc 74.37\tLoss 0.5211\tPrec [83.88, 69.03]\tRecall [60.34, 88.4]\n"
     ]
    }
   ],
   "source": [
    "!python3 classify.py test --arch drn_c_26 -j 4 ~/datasets/SkinTone/ --resume model_best.pth.tar --print-freq=1"
   ]
  },
  {
   "cell_type": "code",
   "execution_count": null,
   "id": "7fc02625",
   "metadata": {},
   "outputs": [],
   "source": []
  }
 ],
 "metadata": {
  "environment": {
   "name": "pytorch-gpu.1-8.m65",
   "type": "gcloud",
   "uri": "gcr.io/deeplearning-platform-release/pytorch-gpu.1-8:m65"
  },
  "kernelspec": {
   "display_name": "Python 3",
   "language": "python",
   "name": "python3"
  },
  "language_info": {
   "codemirror_mode": {
    "name": "ipython",
    "version": 3
   },
   "file_extension": ".py",
   "mimetype": "text/x-python",
   "name": "python",
   "nbconvert_exporter": "python",
   "pygments_lexer": "ipython3",
   "version": "3.7.10"
  }
 },
 "nbformat": 4,
 "nbformat_minor": 5
}
